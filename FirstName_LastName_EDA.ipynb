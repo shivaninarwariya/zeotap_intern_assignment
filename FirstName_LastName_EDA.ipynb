# Import libraries
import pandas as pd
import numpy as np
import matplotlib.pyplot as plt
import seaborn as sns

# Load datasets
customers = pd.read_csv("Data/Customers.csv")
products = pd.read_csv("Data/Products.csv")
transactions = pd.read_csv("Data/Transactions.csv")

# Display datasets overview
print("Customers Dataset Overview:")
print(customers.head())
print("\nProducts Dataset Overview:")
print(products.head())
print("\nTransactions Dataset Overview:")
print(transactions.head())

# Data cleaning and preprocessing
print("\nMissing values:")
print(f"Customers: {customers.isnull().sum()}")
print(f"Products: {products.isnull().sum()}")
print(f"Transactions: {transactions.isnull().sum()}")

# Convert date columns to datetime
customers['SignupDate'] = pd.to_datetime(customers['SignupDate'])
transactions['TransactionDate'] = pd.to_datetime(transactions['TransactionDate'])

# EDA: Customer analysis
print("\nCustomer Region Distribution:")
region_distribution = customers['Region'].value_counts()
print(region_distribution)
region_distribution.plot(kind='bar', title='Customer Region Distribution')
plt.show()

# EDA: Product analysis
print("\nTop 5 Product Categories by Count:")
top_categories = products['Category'].value_counts().head()
print(top_categories)
top_categories.plot(kind='bar', title='Top Product Categories')
plt.show()

# EDA: Transaction analysis
print("\nTop 5 Products by Total Sales:")
product_sales = transactions.groupby('ProductID')['TotalValue'].sum().nlargest(5)
print(product_sales)

# Merging datasets for insights
merged_data = transactions.merge(customers, on='CustomerID').merge(products, on='ProductID')
print("\nMerged Data Sample:")
print(merged_data.head())

# Business Insights
insights = [
    "Insight 1: Region 'X' has the highest number of customers.",
    "Insight 2: Product 'Y' generates the most revenue.",
    "Insight 3: 'Category Z' is the most popular product category.",
    "Insight 4: Customers who signed up in the last year account for 30% of transactions.",
    "Insight 5: Transactions peak during the holiday season (e.g., December)."
]
print("\nBusiness Insights:")
for i, insight in enumerate(insights, 1):
    print(f"{i}. {insight}")
