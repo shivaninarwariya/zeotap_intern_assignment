# Import libraries
import pandas as pd
from sklearn.metrics.pairwise import cosine_similarity
from sklearn.preprocessing import StandardScaler

# Load datasets
customers = pd.read_csv("Data/Customers.csv")
transactions = pd.read_csv("Data/Transactions.csv")

# Merge customer profiles with transaction history
customer_transactions = transactions.groupby('CustomerID').agg({
    'TotalValue': 'sum', 'Quantity': 'sum'
}).reset_index()
customer_profiles = customers.merge(customer_transactions, on='CustomerID', how='left').fillna(0)

# Feature selection for similarity
features = customer_profiles[['TotalValue', 'Quantity']]
scaler = StandardScaler()
features_scaled = scaler.fit_transform(features)

# Compute cosine similarity
similarity_matrix = cosine_similarity(features_scaled)

# Recommend top 3 similar customers for each customer
lookalikes = {}
for idx, customer_id in enumerate(customer_profiles['CustomerID']):
    similarity_scores = list(enumerate(similarity_matrix[idx]))
    top_similar = sorted(similarity_scores, key=lambda x: x[1], reverse=True)[1:4]  # Exclude self
    lookalikes[customer_id] = [(customer_profiles['CustomerID'][i], score) for i, score in top_similar]

# Save results
lookalike_df = pd.DataFrame({
    'CustomerID': lookalikes.keys(),
    'Lookalikes': [str(v) for v in lookalikes.values()]
})
lookalike_df.to_csv("Lookalike_Model/FirstName_LastName_Lookalike.csv", index=False)

print("Lookalike results saved as CSV.")
